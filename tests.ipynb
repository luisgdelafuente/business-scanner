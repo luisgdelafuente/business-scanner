{
 "cells": [
  {
   "attachments": {},
   "cell_type": "markdown",
   "metadata": {},
   "source": [
    "Testing some scripts with Google Trends. \n",
    "- The objective of this task is to check how does pytrend work, and the most important methods. \n",
    "- Check how this is going to help the overall project. "
   ]
  },
  {
   "cell_type": "code",
   "execution_count": 1,
   "metadata": {},
   "outputs": [
    {
     "data": {
      "text/html": [
       "<div>\n",
       "<style scoped>\n",
       "    .dataframe tbody tr th:only-of-type {\n",
       "        vertical-align: middle;\n",
       "    }\n",
       "\n",
       "    .dataframe tbody tr th {\n",
       "        vertical-align: top;\n",
       "    }\n",
       "\n",
       "    .dataframe thead th {\n",
       "        text-align: right;\n",
       "    }\n",
       "</style>\n",
       "<table border=\"1\" class=\"dataframe\">\n",
       "  <thead>\n",
       "    <tr style=\"text-align: right;\">\n",
       "      <th></th>\n",
       "      <th>mid</th>\n",
       "      <th>title</th>\n",
       "      <th>type</th>\n",
       "    </tr>\n",
       "  </thead>\n",
       "  <tbody>\n",
       "    <tr>\n",
       "      <th>0</th>\n",
       "      <td>/g/11nnqn1_z0</td>\n",
       "      <td>Things To Do In Denver</td>\n",
       "      <td>Topic</td>\n",
       "    </tr>\n",
       "    <tr>\n",
       "      <th>1</th>\n",
       "      <td>/m/0f7q4</td>\n",
       "      <td>Subway</td>\n",
       "      <td>Fast-food restaurant company</td>\n",
       "    </tr>\n",
       "    <tr>\n",
       "      <th>2</th>\n",
       "      <td>/m/0d63tn</td>\n",
       "      <td>Wingstop Restaurants</td>\n",
       "      <td>Restaurant company</td>\n",
       "    </tr>\n",
       "    <tr>\n",
       "      <th>3</th>\n",
       "      <td>/g/11f7bf_ww8</td>\n",
       "      <td>Caribbean Holidays</td>\n",
       "      <td>Topic</td>\n",
       "    </tr>\n",
       "    <tr>\n",
       "      <th>4</th>\n",
       "      <td>/g/11f7rkgw0s</td>\n",
       "      <td>La cuisine de Jean-Philippe: Ses 100 meilleure...</td>\n",
       "      <td>Book by Jean-Philippe Cyr</td>\n",
       "    </tr>\n",
       "  </tbody>\n",
       "</table>\n",
       "</div>"
      ],
      "text/plain": [
       "             mid                                              title  \\\n",
       "0  /g/11nnqn1_z0                             Things To Do In Denver   \n",
       "1       /m/0f7q4                                             Subway   \n",
       "2      /m/0d63tn                               Wingstop Restaurants   \n",
       "3  /g/11f7bf_ww8                                 Caribbean Holidays   \n",
       "4  /g/11f7rkgw0s  La cuisine de Jean-Philippe: Ses 100 meilleure...   \n",
       "\n",
       "                           type  \n",
       "0                         Topic  \n",
       "1  Fast-food restaurant company  \n",
       "2            Restaurant company  \n",
       "3                         Topic  \n",
       "4     Book by Jean-Philippe Cyr  "
      ]
     },
     "execution_count": 1,
     "metadata": {},
     "output_type": "execute_result"
    }
   ],
   "source": [
    "# quick test to check how pytrends works\n",
    "\n",
    "import pandas as pd\n",
    "from pytrends.request import TrendReq\n",
    "pytrend = TrendReq()\n",
    "\n",
    "# Get Google Keyword Suggestions\n",
    "keywords = pytrend.suggestions(keyword='restaurants')\n",
    "df = pd.DataFrame(keywords)\n",
    "df.head(5)"
   ]
  }
 ],
 "metadata": {
  "kernelspec": {
   "display_name": "base",
   "language": "python",
   "name": "python3"
  },
  "language_info": {
   "codemirror_mode": {
    "name": "ipython",
    "version": 3
   },
   "file_extension": ".py",
   "mimetype": "text/x-python",
   "name": "python",
   "nbconvert_exporter": "python",
   "pygments_lexer": "ipython3",
   "version": "3.9.13"
  },
  "orig_nbformat": 4,
  "vscode": {
   "interpreter": {
    "hash": "83274c31c9221182fb1fe126cd0ae34f8001af217d374c7998aef38dd4f692b5"
   }
  }
 },
 "nbformat": 4,
 "nbformat_minor": 2
}
